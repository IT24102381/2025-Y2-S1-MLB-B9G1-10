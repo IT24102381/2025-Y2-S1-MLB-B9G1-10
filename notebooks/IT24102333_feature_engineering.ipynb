{
 "cells": [
  {
   "cell_type": "code",
   "execution_count": 1,
   "metadata": {
    "executionInfo": {
     "elapsed": 1103,
     "status": "ok",
     "timestamp": 1758616844877,
     "user": {
      "displayName": "Imaya Jayawickrama",
      "userId": "13447001828358120444"
     },
     "user_tz": -330
    },
    "id": "CQTq-haZp0F8"
   },
   "outputs": [],
   "source": [
    "import pandas as pd\n",
    "import matplotlib.pyplot as plt\n",
    "\n",
    "# Load the dataset\n",
    "df = pd.read_csv(\"../results/outputs/scaled_telco_data.csv\")\n",
    "\n",
    "df['TotalCharges'] = pd.to_numeric(df['TotalCharges'], errors='coerce')\n",
    "df = df.dropna(subset=['TotalCharges'])"
   ]
  },
  {
   "cell_type": "markdown",
   "metadata": {
    "id": "iOGEtEinrQPd"
   },
   "source": [
    "Creating New Features"
   ]
  },
  {
   "cell_type": "code",
   "execution_count": 2,
   "metadata": {
    "executionInfo": {
     "elapsed": 8,
     "status": "ok",
     "timestamp": 1758616848751,
     "user": {
      "displayName": "Imaya Jayawickrama",
      "userId": "13447001828358120444"
     },
     "user_tz": -330
    },
    "id": "bLw3BL2urT4o"
   },
   "outputs": [],
   "source": [
    "# New Feature 1: Services Count\n",
    "yes_cols = [col for col in df.columns if col.endswith('_Yes') and any(s in col for s in ['OnlineSecurity','OnlineBackup','DeviceProtection','TechSupport','StreamingTV','StreamingMovies'])]\n",
    "\n",
    "df['services_count'] = df[yes_cols].sum(axis=1)"
   ]
  },
  {
   "cell_type": "code",
   "execution_count": 3,
   "metadata": {
    "executionInfo": {
     "elapsed": 8,
     "status": "ok",
     "timestamp": 1758616850347,
     "user": {
      "displayName": "Imaya Jayawickrama",
      "userId": "13447001828358120444"
     },
     "user_tz": -330
    },
    "id": "XiUIrXH-rfZv"
   },
   "outputs": [],
   "source": [
    "# New Feature 2: Tenure Group (pure numeric)\n",
    "df['tenure_group'] = pd.cut(df['tenure'],\n",
    "                            bins=[-1, 6, 12, 24, 48, 72],\n",
    "                            labels=False)"
   ]
  },
  {
   "cell_type": "code",
   "execution_count": 4,
   "metadata": {
    "executionInfo": {
     "elapsed": 10,
     "status": "ok",
     "timestamp": 1758616851606,
     "user": {
      "displayName": "Imaya Jayawickrama",
      "userId": "13447001828358120444"
     },
     "user_tz": -330
    },
    "id": "qSPgfGWqsTvA"
   },
   "outputs": [],
   "source": [
    "# New Feature 3: Average Charge Per Month\n",
    "df['avg_charge_per_month'] = df['TotalCharges'] / (df['tenure'].replace(0,1))"
   ]
  },
  {
   "cell_type": "code",
   "execution_count": 5,
   "metadata": {
    "colab": {
     "base_uri": "https://localhost:8080/"
    },
    "executionInfo": {
     "elapsed": 39,
     "status": "ok",
     "timestamp": 1758616853466,
     "user": {
      "displayName": "Imaya Jayawickrama",
      "userId": "13447001828358120444"
     },
     "user_tz": -330
    },
    "id": "kdMO-SfqtT1J",
    "outputId": "525c5602-4faa-4500-b10a-a420ecfd799f"
   },
   "outputs": [
    {
     "name": "stdout",
     "output_type": "stream",
     "text": [
      "<class 'pandas.core.frame.DataFrame'>\n",
      "RangeIndex: 7043 entries, 0 to 7042\n",
      "Data columns (total 42 columns):\n",
      " #   Column                                   Non-Null Count  Dtype  \n",
      "---  ------                                   --------------  -----  \n",
      " 0   gender                                   7043 non-null   int64  \n",
      " 1   SeniorCitizen                            7043 non-null   int64  \n",
      " 2   Partner                                  7043 non-null   int64  \n",
      " 3   Dependents                               7043 non-null   int64  \n",
      " 4   tenure                                   7043 non-null   int64  \n",
      " 5   PhoneService                             7043 non-null   int64  \n",
      " 6   Contract                                 7043 non-null   float64\n",
      " 7   PaperlessBilling                         7043 non-null   int64  \n",
      " 8   MonthlyCharges                           7043 non-null   float64\n",
      " 9   TotalCharges                             7043 non-null   float64\n",
      " 10  Churn                                    7043 non-null   int64  \n",
      " 11  InternetService_DSL                      7043 non-null   bool   \n",
      " 12  InternetService_Fiber optic              7043 non-null   bool   \n",
      " 13  InternetService_No                       7043 non-null   bool   \n",
      " 14  PaymentMethod_Bank transfer (automatic)  7043 non-null   bool   \n",
      " 15  PaymentMethod_Credit card (automatic)    7043 non-null   bool   \n",
      " 16  PaymentMethod_Electronic check           7043 non-null   bool   \n",
      " 17  PaymentMethod_Mailed check               7043 non-null   bool   \n",
      " 18  MultipleLines_No                         7043 non-null   bool   \n",
      " 19  MultipleLines_No phone service           7043 non-null   bool   \n",
      " 20  MultipleLines_Yes                        7043 non-null   bool   \n",
      " 21  OnlineSecurity_No                        7043 non-null   bool   \n",
      " 22  OnlineSecurity_No internet service       7043 non-null   bool   \n",
      " 23  OnlineSecurity_Yes                       7043 non-null   bool   \n",
      " 24  OnlineBackup_No                          7043 non-null   bool   \n",
      " 25  OnlineBackup_No internet service         7043 non-null   bool   \n",
      " 26  OnlineBackup_Yes                         7043 non-null   bool   \n",
      " 27  DeviceProtection_No                      7043 non-null   bool   \n",
      " 28  DeviceProtection_No internet service     7043 non-null   bool   \n",
      " 29  DeviceProtection_Yes                     7043 non-null   bool   \n",
      " 30  TechSupport_No                           7043 non-null   bool   \n",
      " 31  TechSupport_No internet service          7043 non-null   bool   \n",
      " 32  TechSupport_Yes                          7043 non-null   bool   \n",
      " 33  StreamingTV_No                           7043 non-null   bool   \n",
      " 34  StreamingTV_No internet service          7043 non-null   bool   \n",
      " 35  StreamingTV_Yes                          7043 non-null   bool   \n",
      " 36  StreamingMovies_No                       7043 non-null   bool   \n",
      " 37  StreamingMovies_No internet service      7043 non-null   bool   \n",
      " 38  StreamingMovies_Yes                      7043 non-null   bool   \n",
      " 39  services_count                           7043 non-null   int64  \n",
      " 40  tenure_group                             7043 non-null   int64  \n",
      " 41  avg_charge_per_month                     7043 non-null   float64\n",
      "dtypes: bool(28), float64(4), int64(10)\n",
      "memory usage: 963.0 KB\n"
     ]
    }
   ],
   "source": [
    "df.info()"
   ]
  },
  {
   "cell_type": "markdown",
   "metadata": {
    "id": "Vm1iA5J3tHwl"
   },
   "source": [
    "Visualization"
   ]
  },
  {
   "cell_type": "code",
   "execution_count": 6,
   "metadata": {
    "colab": {
     "base_uri": "https://localhost:8080/",
     "height": 467
    },
    "executionInfo": {
     "elapsed": 416,
     "status": "ok",
     "timestamp": 1758616859003,
     "user": {
      "displayName": "Imaya Jayawickrama",
      "userId": "13447001828358120444"
     },
     "user_tz": -330
    },
    "id": "9JZ5qyFetERN",
    "outputId": "f4513ccb-5fd9-4a6c-fdda-f8f8a4ee7d48"
   },
   "outputs": [
    {
     "data": {
      "image/png": "[encoded data removed]",
      "text/plain": [
       "<Figure size 640x480 with 1 Axes>"
      ]
     },
     "metadata": {},
     "output_type": "display_data"
    }
   ],
   "source": [
    "# Services Count vs Churn\n",
    "df.groupby('services_count')['Churn'].mean().plot(kind='bar', color='skyblue')\n",
    "plt.title(\"Churn Rate by Number of Services\")\n",
    "plt.ylabel(\"Churn Rate\")\n",
    "plt.show()"
   ]
  },
  {
   "cell_type": "code",
   "execution_count": 7,
   "metadata": {
    "colab": {
     "base_uri": "https://localhost:8080/",
     "height": 467
    },
    "executionInfo": {
     "elapsed": 156,
     "status": "ok",
     "timestamp": 1758616861165,
     "user": {
      "displayName": "Imaya Jayawickrama",
      "userId": "13447001828358120444"
     },
     "user_tz": -330
    },
    "id": "b4sbOjFetUcv",
    "outputId": "b0462bbb-8fb9-4db3-8be0-a0f07b3bcf59"
   },
   "outputs": [
    {
     "data": {
      "image/png": "[encoded data removed]",
      "text/plain": [
       "<Figure size 640x480 with 1 Axes>"
      ]
     },
     "metadata": {},
     "output_type": "display_data"
    }
   ],
   "source": [
    "# Tenure Group vs Churn\n",
    "df.groupby('tenure_group')['Churn'].mean().plot(kind='bar', color='orange')\n",
    "plt.title(\"Churn Rate by Tenure Group\")\n",
    "plt.ylabel(\"Churn Rate\")\n",
    "plt.show()"
   ]
  },
  {
   "cell_type": "code",
   "execution_count": 8,
   "metadata": {
    "executionInfo": {
     "elapsed": 239,
     "status": "ok",
     "timestamp": 1758616883271,
     "user": {
      "displayName": "Imaya Jayawickrama",
      "userId": "13447001828358120444"
     },
     "user_tz": -330
    },
    "id": "lb9CkoIZE0GK"
   },
   "outputs": [],
   "source": [
    "df.to_csv('../results/outputs/feature_engineered_telco_data.csv', index=False)"
   ]
  }
 ],
 "metadata": {
  "colab": {
   "authorship_tag": "ABX9TyOmWDF19kCCY/ZO+RTMJ6mP",
   "provenance": []
  },
  "kernelspec": {
   "display_name": "sliit",
   "language": "python",
   "name": "python3"
  },
  "language_info": {
   "codemirror_mode": {
    "name": "ipython",
    "version": 3
   },
   "file_extension": ".py",
   "mimetype": "text/x-python",
   "name": "python",
   "nbconvert_exporter": "python",
   "pygments_lexer": "ipython3",
   "version": "3.11.13"
  }
 },
 "nbformat": 4,
 "nbformat_minor": 0
}
